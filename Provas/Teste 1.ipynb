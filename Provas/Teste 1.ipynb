{
 "cells": [
  {
   "cell_type": "code",
   "execution_count": 110,
   "metadata": {},
   "outputs": [],
   "source": [
    "def simple_solve(token, lst_result = []):\n",
    "    if len(token) == 1:\n",
    "        return token\n",
    "    for item in range(len(token)):\n",
    "        try:\n",
    "            isinstance(int(token[item]), int)\n",
    "        except ValueError:\n",
    "            lst_result = [token[item-2], token[item] , token[item-1]]\n",
    "            lst_result = ' '.join(lst_result)\n",
    "            token[item-2] = str(eval(lst_result))\n",
    "            del token[(item-1):(item+1)]\n",
    "            \n",
    "            return simple_solve(token)\n",
    "            \n",
    "def tokenize(token):\n",
    "    return token.split()\n",
    "\n",
    "\n",
    "    "
   ]
  },
  {
   "cell_type": "code",
   "execution_count": 115,
   "metadata": {
    "scrolled": true
   },
   "outputs": [
    {
     "name": "stdout",
     "output_type": "stream",
     "text": [
      "['14']\n"
     ]
    }
   ],
   "source": [
    "print(simple_solve(tokenize('2 3 4 * +')))"
   ]
  },
  {
   "cell_type": "code",
   "execution_count": null,
   "metadata": {},
   "outputs": [],
   "source": []
  }
 ],
 "metadata": {
  "kernelspec": {
   "display_name": "Python 3",
   "language": "python",
   "name": "python3"
  },
  "language_info": {
   "codemirror_mode": {
    "name": "ipython",
    "version": 3
   },
   "file_extension": ".py",
   "mimetype": "text/x-python",
   "name": "python",
   "nbconvert_exporter": "python",
   "pygments_lexer": "ipython3",
   "version": "3.7.3"
  }
 },
 "nbformat": 4,
 "nbformat_minor": 2
}
