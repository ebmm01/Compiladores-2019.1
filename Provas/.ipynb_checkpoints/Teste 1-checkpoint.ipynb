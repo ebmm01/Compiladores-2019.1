{
 "cells": [
  {
   "cell_type": "code",
   "execution_count": 50,
   "metadata": {},
   "outputs": [
    {
     "ename": "SyntaxError",
     "evalue": "invalid syntax (<ipython-input-50-73a671afda86>, line 28)",
     "output_type": "error",
     "traceback": [
      "\u001b[0;36m  File \u001b[0;32m\"<ipython-input-50-73a671afda86>\"\u001b[0;36m, line \u001b[0;32m28\u001b[0m\n\u001b[0;31m    for item in range(len(token))\u001b[0m\n\u001b[0m                                 ^\u001b[0m\n\u001b[0;31mSyntaxError\u001b[0m\u001b[0;31m:\u001b[0m invalid syntax\n"
     ]
    }
   ],
   "source": [
    "def show_string(token):\n",
    "    lst\n",
    "    for i in range(len(token)):\n",
    "        try:\n",
    "            lst.append(int(token[i]))\n",
    "        except ValueError:\n",
    "            if i != \" \":\n",
    "                lst_result =[lst[-2], i , lst[-1] ]\n",
    "                lst = lst[:-2 or None]\n",
    "                lst_result = ' '.join(lst_result)\n",
    "                lst.append(eval(lst_result))\n",
    "                lst_result = None\n",
    "            print(i)\n",
    "    return lst1, lst2\n",
    "    \n",
    "def solve(num_lst, char_lst, lst_rst=[]):\n",
    "    lst_result =[num_lst[-2], char_lst[0] , num_lst[-1] ]\n",
    "    char_lst.pop(0)\n",
    "    num_lst = num_lst[:-2 or None]\n",
    "    lst_result = ' '.join(lst_result)\n",
    "    num_lst.append(str(eval(lst_result)))\n",
    "    return num_lst, char_lst\n",
    "\n",
    "def simple_solve(token, lst_result = []):\n",
    "    if len(token) == 0:\n",
    "        return token\n",
    "    try:\n",
    "        for item in range(len(token)):\n",
    "            try:\n",
    "                isinstance(int(token[item]), int)\n",
    "            except ValueError:\n",
    "                lst_result =[token[item-2], token[item] , token[token-1]]\n",
    "                lst_result = ' '.join(lst_result)\n",
    "                token[item-2] = str(eval(lst_result))\n",
    "                token.pop(item)\n",
    "                token.pop(item-1)\n",
    "                return simple_solve(token)\n",
    "                \n",
    "def tokenize(token):\n",
    "    return token.split()\n",
    "\n",
    "\n",
    "    "
   ]
  },
  {
   "cell_type": "code",
   "execution_count": 49,
   "metadata": {
    "scrolled": true
   },
   "outputs": [
    {
     "name": "stdout",
     "output_type": "stream",
     "text": [
      "['1', '5']\n"
     ]
    }
   ],
   "source": [
    "lst__q = solve([\"1\",'2','3'], ['+','+'])\n",
    "print(lst__q)"
   ]
  },
  {
   "cell_type": "code",
   "execution_count": null,
   "metadata": {},
   "outputs": [],
   "source": []
  }
 ],
 "metadata": {
  "kernelspec": {
   "display_name": "Python 3",
   "language": "python",
   "name": "python3"
  },
  "language_info": {
   "codemirror_mode": {
    "name": "ipython",
    "version": 3
   },
   "file_extension": ".py",
   "mimetype": "text/x-python",
   "name": "python",
   "nbconvert_exporter": "python",
   "pygments_lexer": "ipython3",
   "version": "3.7.3"
  }
 },
 "nbformat": 4,
 "nbformat_minor": 2
}
