{
 "cells": [
  {
   "cell_type": "code",
   "execution_count": null,
   "metadata": {
    "hideCode": false,
    "hidePrompt": false
   },
   "outputs": [],
   "source": [
    "# Instalação de dependências\n",
    "!pip install unidecode # remove acentos de strings"
   ]
  },
  {
   "cell_type": "markdown",
   "metadata": {
    "hideCode": false,
    "hidePrompt": false
   },
   "source": [
    "# Chatbots\n",
    "\n",
    "Neste tutorial, vamos criar um chatbot utilizando expressões regulares. Existem várias técnicas para criar chatbots e, por mais que expressões regulares não sejam o estado da arte em chatbots, é possível se divertir e criar alguns chatbots razoáveis."
   ]
  },
  {
   "cell_type": "markdown",
   "metadata": {
    "hideCode": false,
    "hidePrompt": false
   },
   "source": [
    "## O que é um chatbot?\n",
    "\n",
    "Abstraindo ao máximo, podemos dizer que um chatbot é uma função que recebe um contexto e uma entrada do usuário e retorna um novo contexto e uma string com a resposta."
   ]
  },
  {
   "cell_type": "code",
   "execution_count": 2,
   "metadata": {
    "hideCode": false,
    "hidePrompt": false
   },
   "outputs": [],
   "source": [
    "def yell_bot(ctx, msg):\n",
    "    \"\"\"\n",
    "    Bot que responde gritando de volta ao usuário.\n",
    "    \"\"\"\n",
    "    return ctx, msg.upper() + '!!!'"
   ]
  },
  {
   "cell_type": "markdown",
   "metadata": {
    "hideCode": false,
    "hidePrompt": false
   },
   "source": [
    "O contexto pode ser qualquer coisa que represente o atual contexto de conversa. Desde uma string até representações mais complicadas que seu chatbot possa utilizar. A única coisa que importa é que o chatbot entenda o contexto recebido e sempre retorne contextos que ele consiga processar. \n",
    "\n",
    "Nosso `yell_bot` é extremamente simples. Mas um chatbot extremamente complexo é capaz de operar utilizando a mesma interface. Interagimos com o bot passando-o como argumento para a função interact."
   ]
  },
  {
   "cell_type": "code",
   "execution_count": null,
   "metadata": {
    "hideCode": false,
    "hidePrompt": false
   },
   "outputs": [],
   "source": [
    "from time import sleep\n",
    "from unidecode import unidecode  \n",
    "\n",
    "\n",
    "def interact(chatbot, ctx=None, intro=None):\n",
    "    \"\"\"Chama o chatbot em loop passando o contexto inicial.\"\"\"\n",
    "\n",
    "    # Mensagem opcional no início\n",
    "    if intro is not None:\n",
    "        respond(intro)\n",
    "        \n",
    "    while True:\n",
    "        try:\n",
    "            msg = input('> ')\n",
    "        except KeyboardInterrupt:\n",
    "            print()\n",
    "            msg = ''\n",
    "\n",
    "        if not msg:\n",
    "            if input('sair? (S/n) ').lower() in 's':\n",
    "                break\n",
    "        \n",
    "        ctx, reply = chatbot(ctx, clean(msg))\n",
    "        respond(reply)\n",
    "\n",
    "        \n",
    "def respond(msg):\n",
    "    for c in msg:\n",
    "        print(c, end='')\n",
    "        if c == '\\n':\n",
    "            sleep(0.2)\n",
    "        sleep(0.05)\n",
    "    print('\\n')\n",
    "    sleep(0.4)\n",
    "        \n",
    "def clean(x):\n",
    "    return unidecode(x.lower())\n",
    "        \n",
    "\n",
    "interact(yell_bot)"
   ]
  },
  {
   "cell_type": "markdown",
   "metadata": {
    "hideCode": false,
    "hidePrompt": false
   },
   "source": [
    "Vamos criar uma função que ajuda em testes e na execução automática do nosso bot."
   ]
  },
  {
   "cell_type": "code",
   "execution_count": null,
   "metadata": {
    "hideCode": false,
    "hidePrompt": false
   },
   "outputs": [],
   "source": [
    "def replay(msgs, chatbot, ctx=None, intro=None):\n",
    "    \"\"\"\n",
    "    Executa interação de forma não-interativa. Útil para testes.\n",
    "    \"\"\"\n",
    "    if intro is not None:\n",
    "        respond(intro)\n",
    "        \n",
    "    for msg in msgs:\n",
    "        print('>', msg)\n",
    "        ctx, reply = chatbot(ctx, clean(msg))\n",
    "        respond(reply)\n",
    "\n",
    "\n",
    "replay(['oi, tudo bem?', 'eu estou!'], yell_bot)"
   ]
  },
  {
   "cell_type": "markdown",
   "metadata": {
    "hideCode": false,
    "hidePrompt": false
   },
   "source": [
    "## Funcbot\n",
    "\n",
    "Agora que temos uma interface bem definida, podemos criar funções mais sofisticadas que o `yell_bot` para criar nossos chatbots. É lógico que é muito difícil fazer isto sem uma estrutura, ainda mais que conversas com seres humanos tendem a ser altamente contextuais e dependentes de informação externa.\n",
    "\n",
    "Vamos criar uma estrutura simples para compor nossos chatbots. A idéia básica é criar chatbots mais complicados a partir de chatbots mais simples. Como exemplo, considere a função compose abaixo. Ela cria um chatbot que retorna o resultado da interação do primeiro chatbot que compreendeu a mensagem e não retornou uma string vazia."
   ]
  },
  {
   "cell_type": "code",
   "execution_count": null,
   "metadata": {
    "hideCode": false,
    "hidePrompt": false
   },
   "outputs": [],
   "source": [
    "def compose(*bots):\n",
    "    \"\"\"Cria chatbot que retorna a primeira interação bem sucedida \n",
    "    na lista de bots fornecidas.\"\"\"\n",
    "    \n",
    "    def bot(ctx, msg):\n",
    "        for bot in bots:\n",
    "            ctx_, msg_ = bot(ctx, msg)\n",
    "            if msg_:\n",
    "                return ctx_, msg_\n",
    "        return ctx, ''\n",
    "    \n",
    "    return bot"
   ]
  },
  {
   "cell_type": "markdown",
   "metadata": {
    "hideCode": false,
    "hidePrompt": false
   },
   "source": [
    "Também podemos criar algumas funções úteis para criar bots ultra especializados"
   ]
  },
  {
   "cell_type": "code",
   "execution_count": null,
   "metadata": {
    "hideCode": false,
    "hidePrompt": false
   },
   "outputs": [],
   "source": [
    "from random import choice\n",
    "\n",
    "\n",
    "def eq(expected, reply, to=None):\n",
    "    \"\"\"\n",
    "    Retorna reply se entrada do usuário for exatamente igual ao valor \n",
    "    de msg.\n",
    "    \"\"\"\n",
    "    \n",
    "    expected = expected.lower()\n",
    "    \n",
    "    def eq_bot(ctx, msg):\n",
    "        if msg.lower() == expected:\n",
    "            return output(ctx, to, reply)\n",
    "        return ctx, ''\n",
    "    \n",
    "    return eq_bot\n",
    "\n",
    "\n",
    "def has(words, reply, to=None):\n",
    "    \"\"\"\n",
    "    Retorna reply se entrada do usuário contiver\n",
    "    alguma das palavras em words.\n",
    "    \"\"\"\n",
    "    \n",
    "    words = [w.lower() for w in words]\n",
    "    def has_bot(ctx, msg):\n",
    "        msg = msg.lower()\n",
    "        if any(w in msg for w in words):\n",
    "            return output(ctx, to, reply)\n",
    "        return ctx, ''\n",
    "    \n",
    "    return has_bot\n",
    "\n",
    "\n",
    "def always(reply, to=None):\n",
    "    \"\"\"\n",
    "    Sempre retorna a mesma mensagem.\n",
    "    \"\"\"\n",
    "    \n",
    "    def bot(ctx, msg):\n",
    "        return output(ctx, to, reply)\n",
    "    return bot\n",
    "\n",
    "\n",
    "def neverbot(msg, ctx):\n",
    "    \"\"\"\n",
    "    Bot que nunca é selecionado\n",
    "    \"\"\"\n",
    "    return ctx, ''\n",
    "\n",
    "\n",
    "# Normaliza saídas.\n",
    "def output(curr_ctx, ctx, reply, data=None):\n",
    "    \"\"\"\n",
    "    Normaliza o padrão de saída:\n",
    "    \n",
    "    * Se ctx for None, escolhe curr_ctx. \n",
    "    * Se reply for uma função, utiliza reply()\n",
    "    * Se for conjunto, lista ou tupla, sorteia elemento aleatorio\n",
    "    * Se data for dado, formata string com dicionário de\n",
    "      valores.\n",
    "    \"\"\"\n",
    "    \n",
    "    ctx = curr_ctx if ctx is None else ctx\n",
    "    if callable(reply):\n",
    "        reply = reply()\n",
    "    elif isinstance(reply, (tuple, list, set)):\n",
    "        reply = choice(list(reply))\n",
    "    if data is not None:\n",
    "        reply = reply.format(**data)\n",
    "    return ctx, reply"
   ]
  },
  {
   "cell_type": "markdown",
   "metadata": {
    "hideCode": false,
    "hidePrompt": false
   },
   "source": [
    "Também criamos formas mais sofisticadas de composição de bots."
   ]
  },
  {
   "cell_type": "code",
   "execution_count": null,
   "metadata": {
    "hideCode": false,
    "hidePrompt": false
   },
   "outputs": [],
   "source": [
    "def if_msg(cond, bot, else_=neverbot):\n",
    "    \"\"\"\n",
    "    Executa bot somente se função fornecida for avaliada como True na\n",
    "    entrada do usuário.\n",
    "    \"\"\"\n",
    "    def if_bot(ctx, msg):\n",
    "        if cond(msg):\n",
    "            return bot(ctx, msg)\n",
    "        return else_(ctx, msg)\n",
    "    return bot\n",
    "\n",
    "\n",
    "def if_ctx(cond, bot, else_=neverbot):\n",
    "    \"\"\"\n",
    "    Executa bot somente se função fornecida for avaliada como True no\n",
    "    contexto atual.\n",
    "    \"\"\"\n",
    "    def if_bot(ctx, msg):\n",
    "        if cond(ctx):\n",
    "            return bot(ctx, msg)\n",
    "        return else_(ctx, msg)\n",
    "    return bot\n",
    "\n",
    "\n",
    "def story(name, *bots):\n",
    "    \"\"\"\n",
    "    Cria uma história linear.\n",
    "    \n",
    "    Nenhuma parte da história pode ser capturada por uma\n",
    "    regra anterior.\n",
    "    \"\"\"\n",
    "    \n",
    "    def bot(ctx, msg):\n",
    "        if ctx and ctx.startswith(name + ':'):\n",
    "            idx = int(ctx.partition(':')[-1])\n",
    "            _, reply = bots[idx](ctx, msg)\n",
    "            \n",
    "            if reply:\n",
    "                if idx == len(bots) - 1:\n",
    "                    return None, reply\n",
    "                return f'{name}:{idx + 1}', reply\n",
    "            return None, ''\n",
    "        else:\n",
    "            ctx, reply = bots[0](ctx, msg)\n",
    "            if reply:\n",
    "                return f'{name}:1', reply\n",
    "            return ctx, ''\n",
    "        \n",
    "    return bot\n",
    "\n",
    "\n",
    "# Funções auxiliares para utilizar em if_ctx, if_msg\n",
    "def one_of(*opts):\n",
    "    return lambda x: x in opts\n",
    "\n",
    "def has_one_of(*opts):\n",
    "    return lambda x: any(a in x for x in opts)\n",
    "\n",
    "def has_all_of(*opts):\n",
    "    return lambda x: all(a in x for x in opts)\n",
    "\n",
    "# Crie outras funções úteis aqui..."
   ]
  },
  {
   "cell_type": "markdown",
   "metadata": {
    "hideCode": false,
    "hidePrompt": false
   },
   "source": [
    "Temos agora um arsenal para criar pequenos bots:"
   ]
  },
  {
   "cell_type": "code",
   "execution_count": null,
   "metadata": {
    "hideCode": false,
    "hidePrompt": false
   },
   "outputs": [],
   "source": [
    "simple_bot = compose(\n",
    "    story('say-hello', \n",
    "        has(['oi', 'ola'], 'Olá! Tudo bem?'),\n",
    "        if_msg(has_one_of('sim', 'bem', 'ok'), \n",
    "            always('Eu também :)'),\n",
    "            always('Hmm... Qual é o seu nome?'),\n",
    "        ),\n",
    "        always('Mudando o assunto, você gosta de compiladores?'),\n",
    "    ),\n",
    ")\n",
    "\n",
    "replay(['Olá!', 'Sim, e você?', 'Que bom...', 'Sim'], simple_bot)"
   ]
  },
  {
   "cell_type": "markdown",
   "metadata": {
    "hideCode": false,
    "hidePrompt": false
   },
   "source": [
    "## Expressões regulares\n",
    "\n",
    "Agora você assume. Queremos  enriquecer nosso bot adicionando algumas funções baseadas em expressões regulares. Expressões regulares permitem criar padrões mais sofisticados e passar valores para a resposta do bot."
   ]
  },
  {
   "cell_type": "code",
   "execution_count": null,
   "metadata": {
    "hideCode": false,
    "hidePrompt": false
   },
   "outputs": [],
   "source": [
    "import re\n",
    "\n",
    "def regex(pattern, reply, to=None):\n",
    "    \"\"\"\n",
    "    Função captura padrão e passa o dicionário de valores \n",
    "    para o output\n",
    "    \"\"\"\n",
    "    search = re.compile(pattern).search\n",
    "    \n",
    "    def match_bot(ctx, msg):\n",
    "        m = search(msg)\n",
    "        if m:\n",
    "            return output(ctx, to, reply, m.groupdict())\n",
    "        else:\n",
    "            return ctx, ''\n",
    "        \n",
    "    return match_bot"
   ]
  },
  {
   "cell_type": "markdown",
   "metadata": {},
   "source": [
    "Com o match bot, podemos fazer bots que extraiam informação da mensagem do usuário."
   ]
  },
  {
   "cell_type": "code",
   "execution_count": null,
   "metadata": {
    "hideCode": false,
    "hideOutput": true,
    "hidePrompt": false
   },
   "outputs": [],
   "source": [
    "bot = regex(r'tenho (?P<anos>\\d+) anos\\.?', \n",
    "            'Anotado: {anos} anos...\\nAgora diga seu e-mail.')\n",
    "replay(['tenho 18 anos'], bot, intro='Quantos anos você tem?')"
   ]
  },
  {
   "cell_type": "markdown",
   "metadata": {
    "hideCode": false,
    "hidePrompt": false
   },
   "source": [
    "Crie um bot que peça o endereço de e-mail de uma pessoa."
   ]
  },
  {
   "cell_type": "code",
   "execution_count": null,
   "metadata": {
    "hideCode": false,
    "hidePrompt": false
   },
   "outputs": [],
   "source": [
    "mail_bot = story('ask-email', \n",
    "    regex(r'(?P<email>NAO-FUNCIONA)', 'Seu e-mail é {email}. Confirma?'),\n",
    "    if_msg(has_one_of('sim', 'ok'),\n",
    "        always('Obrigado.'),\n",
    "        always('Você pode repetir?', to='ask-email'),\n",
    "    ),\n",
    ")\n",
    "\n",
    "replay(['Meu e-mail é foo@bar.com.', 'Sim'], mail_bot)"
   ]
  },
  {
   "cell_type": "markdown",
   "metadata": {},
   "source": [
    "Agora faça um bot que consiga manter uma conversa genérica por algumas interações."
   ]
  },
  {
   "cell_type": "code",
   "execution_count": null,
   "metadata": {},
   "outputs": [],
   "source": [
    "# Tente programar/testar cada caso separadamente. Crie vários bots e componha.\n",
    "gama = compose(\n",
    "    has(['poeira'], 'É brabo mesmo.'),\n",
    "    has(['almoçar'], 'Vou almoçar no RU mesmo.'),\n",
    ")\n",
    "\n",
    "nome = regex('meu nome eh? (?P<nome>\\w+)', 'Prazer, {nome}!')\n",
    "erro = always(['Desculpe, não entendi.', 'Pode repetir?'])\n",
    "\n",
    "# No final, junte todos os sub-bots.\n",
    "bot = compose(\n",
    "    nome,\n",
    "    gama,\n",
    "    erro,\n",
    ")\n",
    "replay(['Oi tudo bem?', \n",
    "        'Meu nome é Test-o'], bot)"
   ]
  },
  {
   "cell_type": "markdown",
   "metadata": {},
   "source": [
    "### Dica\n",
    "\n",
    "O bot parecerá mais autêntico se estiver em um contexto em que é aceitável dar respostas confusas e vagas ou puder recorrer a bordões e afirmações genéricas. A abordagem que mostrei aqui precisa evoluir muito até conseguir fazer um bot que seja útil. No entanto, se você escolher um domínio adequado, é possível enganar algumas pessoas num teste de Turing.\n",
    "\n",
    "Talvez por isto o primeiro bot criado tenha sido um psicoterapeuta. Outras boas opções são guru espiritual, astrólogo, político, \"life coach\", juiz, presidente com baixo nível intelectual, filósofo pós-modernista, crítico de arte, etc."
   ]
  },
  {
   "cell_type": "code",
   "execution_count": null,
   "metadata": {},
   "outputs": [],
   "source": []
  }
 ],
 "metadata": {
  "hide_code_all_hidden": false,
  "kernelspec": {
   "display_name": "Python 3",
   "language": "python",
   "name": "python3"
  },
  "language_info": {
   "codemirror_mode": {
    "name": "ipython",
    "version": 3
   },
   "file_extension": ".py",
   "mimetype": "text/x-python",
   "name": "python",
   "nbconvert_exporter": "python",
   "pygments_lexer": "ipython3",
   "version": "3.7.1"
  }
 },
 "nbformat": 4,
 "nbformat_minor": 2
}
