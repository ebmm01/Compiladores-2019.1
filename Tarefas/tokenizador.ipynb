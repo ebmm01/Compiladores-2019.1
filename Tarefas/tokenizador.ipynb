{
 "cells": [
  {
   "cell_type": "code",
   "execution_count": 1,
   "metadata": {},
   "outputs": [],
   "source": [
    "import re\n",
    "import tokenize"
   ]
  },
  {
   "cell_type": "code",
   "execution_count": 2,
   "metadata": {},
   "outputs": [],
   "source": [
    "class Token(str):\n",
    "    def __new__(cls, data, kind):\n",
    "        return str.__new__(Token, data)\n",
    "        \n",
    "    def __init__(self, data, kind):\n",
    "        self.kind = kind\n",
    "        \n",
    "    def __repr__(self):\n",
    "        r = super().__repr__()\n",
    "        return 'Token(%s, %r)' % (r, self.kind)\n",
    "\n",
    "    \n",
    "def make_lexer(defs, ignore=(), keywords=()):\n",
    "    \"\"\"\n",
    "    Retorna um lexer a partir de um dicionario com\n",
    "    definicoes de tokens\n",
    "    \"\"\"\n",
    "    defs['error'] = r'.+?'\n",
    "    named = [r'(?P<%s>%s)' % (k, v) \n",
    "             for (k, v) in defs.items()]\n",
    "    regex = re.compile('|'.join(named))\n",
    "    \n",
    "    def lexer(code):\n",
    "        tokens = []\n",
    "        line_no = 1\n",
    "        indent = 0\n",
    "        \n",
    "        for m in regex.finditer(code):\n",
    "            i, j = m.span()\n",
    "            data = m.string[i:j]\n",
    "            kind = m.lastgroup\n",
    "            \n",
    "            if kind == 'space':\n",
    "                line_no += data.count('\\n')\n",
    "            if data in keywords:\n",
    "                tokens.append(Token(data, 'keyword'))\n",
    "            elif kind == 'error':\n",
    "                raise ValueError(f'invalido: {data!r}')\n",
    "            elif kind not in ignore:\n",
    "                tokens.append(Token(data, kind))\n",
    "            \n",
    "        return tokens\n",
    "        \n",
    "    return lexer"
   ]
  },
  {
   "cell_type": "code",
   "execution_count": 23,
   "metadata": {},
   "outputs": [],
   "source": [
    "defs = {\n",
    "    'var': r'[a-zA-Z_]\\w*',    \n",
    "    'float': r'\\d*.\\d+',\n",
    "    'int': r'\\d+',\n",
    "    'op': r'\\+|\\-|\\*\\*?|==|!=|<=?|>=?',\n",
    "    'colon': r':',\n",
    "    'lpar': r'\\(',\n",
    "    'rpar': r'\\)',\n",
    "    'comment': r'\\#[^\\n]*',\n",
    "    'space': r'\\s+',\n",
    "    'string': r'\".*\"',\n",
    "}"
   ]
  },
  {
   "cell_type": "code",
   "execution_count": 24,
   "metadata": {},
   "outputs": [],
   "source": [
    "code = \"\"\"\n",
    "def fat(n):\n",
    "    return 1 if n == 0 else n * fat(n - 1)\n",
    "\"\"\""
   ]
  },
  {
   "cell_type": "code",
   "execution_count": 32,
   "metadata": {},
   "outputs": [
    {
     "data": {
      "text/plain": [
       "[Token('foo_bar', 'var')]"
      ]
     },
     "execution_count": 32,
     "metadata": {},
     "output_type": "execute_result"
    }
   ],
   "source": [
    "lex = make_lexer(\n",
    "    defs, ignore={'space', 'comment'},\n",
    "    keywords={'def', 'if', 'else', 'return'},\n",
    ")\n",
    "\n",
    "# lex('definicao if 42 else 314')\n",
    "# lex(code)\n",
    "\n",
    "lex('foo_bar')"
   ]
  },
  {
   "cell_type": "code",
   "execution_count": 7,
   "metadata": {},
   "outputs": [
    {
     "data": {
      "text/plain": [
       "'42'"
      ]
     },
     "execution_count": 7,
     "metadata": {},
     "output_type": "execute_result"
    }
   ],
   "source": [
    "str('42')"
   ]
  },
  {
   "cell_type": "code",
   "execution_count": 8,
   "metadata": {},
   "outputs": [
    {
     "data": {
      "text/plain": [
       "Token('def', 'keyword')"
      ]
     },
     "execution_count": 8,
     "metadata": {},
     "output_type": "execute_result"
    }
   ],
   "source": [
    "Token('def', 'keyword')"
   ]
  },
  {
   "cell_type": "code",
   "execution_count": null,
   "metadata": {},
   "outputs": [],
   "source": []
  }
 ],
 "metadata": {
  "kernelspec": {
   "display_name": "Python 3",
   "language": "python",
   "name": "python3"
  },
  "language_info": {
   "codemirror_mode": {
    "name": "ipython",
    "version": 3
   },
   "file_extension": ".py",
   "mimetype": "text/x-python",
   "name": "python",
   "nbconvert_exporter": "python",
   "pygments_lexer": "ipython3",
   "version": "3.7.2"
  }
 },
 "nbformat": 4,
 "nbformat_minor": 2
}
