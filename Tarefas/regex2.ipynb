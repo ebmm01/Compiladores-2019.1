{
 "cells": [
  {
   "cell_type": "markdown",
   "metadata": {},
   "source": [
    "# Exercício interativo"
   ]
  },
  {
   "cell_type": "markdown",
   "metadata": {},
   "source": [
    "Antes da submissão final do seu problema, certifique que tudo funciona como esperado. Primeiro, **reinicie o kernel** (Kernel$\\rightarrow$Restart) e depois **execute todas as células** (Cell$\\rightarrow$Run All).\n",
    "\n",
    "Preencha todos lugares que digam `SUA SOLUÇÃO` or `YOUR ANSWER HERE`, e o seu nome e dos colaboradores (outros alunos no grupo) abaixo."
   ]
  },
  {
   "cell_type": "code",
   "execution_count": 84,
   "metadata": {},
   "outputs": [],
   "source": [
    "NAME = \"Guilherme Guy de Andrade - 16/0123186\"\n",
    "COLLABORATORS = \"Elias Bernardo Marques Magalhães - 15/0009011\""
   ]
  },
  {
   "cell_type": "markdown",
   "metadata": {},
   "source": [
    "---"
   ]
  },
  {
   "cell_type": "code",
   "execution_count": 85,
   "metadata": {
    "deletable": false,
    "editable": false,
    "nbgrader": {
     "checksum": "cae446fd2e46f0c148c62ec64c339537",
     "grade": false,
     "grade_id": "cell-3d7bcec5322c58bc",
     "locked": true,
     "schema_version": 1,
     "solution": false
    }
   },
   "outputs": [],
   "source": [
    "# Código de auxílio a correção. Não modifique.\n",
    "\n",
    "import re\n",
    "\n",
    "\n",
    "def test_regex(regex, ok, bad, accept_empty=False):\n",
    "    \"\"\"\n",
    "    Check if regular expression accepts all strings in the \"ok\" set\n",
    "    and refuses all strings in the \"bad\".\n",
    "    \n",
    "    Args:\n",
    "        regex (str): \n",
    "            A string representing a regular expression. \n",
    "        ok (sequence):\n",
    "            A sequence of strings or a single string that will be\n",
    "            split in its spaces.\n",
    "        bad (sequence):\n",
    "            A sequence of strings or a single string that will be\n",
    "            split in its spaces.\n",
    "        accept_empty (bool):\n",
    "            If True, accepts empty strings.\n",
    "    \"\"\"\n",
    "    regex = re.compile(regex)\n",
    "    if isinstance(ok, str):\n",
    "        ok = ok.split()\n",
    "    if isinstance(bad, str):\n",
    "        bad = bad.split()\n",
    "    false_positives = []\n",
    "    false_negatives = []\n",
    "    for test in ok:\n",
    "        if not regex.fullmatch(test):\n",
    "            false_negatives.append(test)\n",
    "    for test in bad:\n",
    "        if regex.fullmatch(test):\n",
    "            false_positives.append(test)\n",
    "    if not accept_empty and regex.fullmatch(''):\n",
    "        false_positives.append('')\n",
    "        \n",
    "    if false_positives or false_negatives:\n",
    "        msg = ['Errors found testing regular expression <%s>:' % regex.pattern]\n",
    "        if false_positives:\n",
    "            msg.extend([\n",
    "                '    The following strings should be REFUSED:',\n",
    "                *('     - %r' % st for st in false_positives)\n",
    "            ])\n",
    "        if  false_negatives:\n",
    "            msg.extend([\n",
    "                '    The following strings should be ACCEPTED:',\n",
    "                *('      - %r' % st for st in false_negatives)\n",
    "            ])\n",
    "        raise AssertionError('\\n'.join(msg))\n",
    "        \n",
    "\n",
    "def test_compact(st, size):\n",
    "    \"\"\"\n",
    "    Check if string at most the given size.\n",
    "    \"\"\"\n",
    "    if len(st) > size:\n",
    "        msg = 'string must be at most {} characters long, got {}.'.format(size, len(st))\n",
    "        raise AssertionError(msg)"
   ]
  },
  {
   "cell_type": "markdown",
   "metadata": {
    "deletable": false,
    "editable": false,
    "nbgrader": {
     "checksum": "78264f20b631bfe0ca10b6e9467a2e00",
     "grade": false,
     "grade_id": "jupyter",
     "locked": true,
     "schema_version": 1,
     "solution": false
    }
   },
   "source": [
    "![](jupyter.png)"
   ]
  },
  {
   "cell_type": "markdown",
   "metadata": {
    "deletable": false,
    "editable": false,
    "nbgrader": {
     "checksum": "a4ebf9875bc71878791cd292de6d2166",
     "grade": false,
     "grade_id": "cell-682c073f34a6a2a7",
     "locked": true,
     "schema_version": 1,
     "solution": false
    }
   },
   "source": [
    "---\n",
    "## Questão 1\n",
    "### Parte 1 (1,5 pts)\n",
    "\n",
    "Escreva uma expressão regular que identifica conteúdo de texto dentro de uma tag HTML. Apenas considere tags simples que não contêm nenhum atributo e nenhuma tag filha.\n",
    "\n",
    "A expressão regular final deve identificar o seguinte padrão:\n",
    "\n",
    "* Tag de abertura (ex.: `<tag>`). Nome das tags pode conter letras minúsculas e hífens. Tags **não** contêm atributos.\n",
    "* Conteúdo. Qualquer texto (possivelmente vazio) que não contenha o símbolo `<`.\n",
    "* Tag de fechamento (ex.: `</other-tag>`). As regras de nome são iguais às regras de nome para tags de abertura."
   ]
  },
  {
   "cell_type": "code",
   "execution_count": 86,
   "metadata": {
    "deletable": false,
    "nbgrader": {
     "checksum": "3b4b5d945a96ec8825dca2cdd4b4b428",
     "grade": false,
     "grade_id": "q1",
     "locked": false,
     "schema_version": 1,
     "solution": true
    }
   },
   "outputs": [],
   "source": [
    "regex = r'<[a-zA-Z\\-]+?>[^<]*?<\\/[a-zA-Z\\-]+?>'"
   ]
  },
  {
   "cell_type": "code",
   "execution_count": 87,
   "metadata": {
    "deletable": false,
    "editable": false,
    "nbgrader": {
     "checksum": "2b6f54df39246b53e77d0f07052f4803",
     "grade": true,
     "grade_id": "q1-tests",
     "locked": true,
     "points": 1.5,
     "schema_version": 1,
     "solution": false
    }
   },
   "outputs": [],
   "source": [
    "\"Verifica se expressão regular funciona em alguns casos simples\"\n",
    "\n",
    "test_regex(regex, \n",
    "           '<empty></empty>  <P></P>  <foo-bar>hello!</bar-foo>  <p>Some-data</p>', \n",
    "           '<></>  <foo42></bar>')"
   ]
  },
  {
   "cell_type": "markdown",
   "metadata": {
    "deletable": false,
    "editable": false,
    "nbgrader": {
     "checksum": "1d144d6c772845d9fe8d82d8d679d8f2",
     "grade": false,
     "grade_id": "cell-0581980983b2b4c4",
     "locked": true,
     "schema_version": 1,
     "solution": false
    }
   },
   "source": [
    "### Parte 2 (1,5 pts)\n",
    "\n",
    "Na segunda parte do exercício, você deve criar uma função baseada em expressões regulares que identifica as partes da tag e retorna uma tupla o valor da tag e o conteúdo. A função também deve detectar se a tag de fechamento é igual à de abertura e retornar None caso identifique algum erro."
   ]
  },
  {
   "cell_type": "code",
   "execution_count": 88,
   "metadata": {
    "deletable": false,
    "nbgrader": {
     "checksum": "d0da41123e1bbb8df64a5697ee43f176",
     "grade": false,
     "grade_id": "q1-p2",
     "locked": false,
     "schema_version": 1,
     "solution": true
    }
   },
   "outputs": [],
   "source": [
    "def parse_tagged(st):\n",
    "    regex = r'(?P<openning><(?P<name>[a-zA-Z\\-]+?)>)(?P<content>[^<]+?)(?P<closing><\\/(?P=name)>)'\n",
    "    result = re.fullmatch(regex, st)\n",
    "    try:\n",
    "        result_dict = result.groupdict()\n",
    "    \n",
    "        return result['name'], result['content']\n",
    "    except:\n",
    "        return None"
   ]
  },
  {
   "cell_type": "code",
   "execution_count": 89,
   "metadata": {
    "deletable": false,
    "editable": false,
    "nbgrader": {
     "checksum": "864c872f53bccf076121a401c27cb8cc",
     "grade": true,
     "grade_id": "q1-p2-tests",
     "locked": true,
     "points": 1.5,
     "schema_version": 1,
     "solution": false
    }
   },
   "outputs": [],
   "source": [
    "\"Verifica que a função parse tagged consegue identificar um padrão de tag.\"\n",
    "\n",
    "assert parse_tagged('<foo>bar</foo>') == ('foo', 'bar')\n",
    "assert parse_tagged('<foo>bar</baz>') is None\n",
    "assert parse_tagged('<foo>') is None"
   ]
  },
  {
   "cell_type": "markdown",
   "metadata": {
    "deletable": false,
    "editable": false,
    "nbgrader": {
     "checksum": "5e9bff5e7d08a647f265cdea65cce33e",
     "grade": false,
     "grade_id": "cell-8403ddfbc6f7ebfd",
     "locked": true,
     "schema_version": 1,
     "solution": false
    }
   },
   "source": [
    "---\n",
    "## Questão 2\n",
    "### Datas (1,5 pts)\n",
    "\n",
    "Detecte timestamps no formato AAAA-MM-DDTHH:MM+HH:MM. Não é necessário validar se o mês, dia, horas ou minutos são válidos. Exemplo: `2019-04-30T16:00-03:00`. Este é um formato compatível com timestamps ISO e representa uma data, seguida de uma hora e uma fuso horário. O fuso horário pode corresponder a um valor positivo ou negativo."
   ]
  },
  {
   "cell_type": "code",
   "execution_count": 90,
   "metadata": {
    "deletable": false,
    "nbgrader": {
     "checksum": "854fd5569422a85c7aad82245de1c34b",
     "grade": false,
     "grade_id": "q2",
     "locked": false,
     "schema_version": 1,
     "solution": true
    }
   },
   "outputs": [],
   "source": [
    "regex = r'\\d{4}-\\d{2}-\\d{2}T\\d{2}:\\d{2}[-+]\\d{2}:\\d{2}'"
   ]
  },
  {
   "cell_type": "code",
   "execution_count": 91,
   "metadata": {
    "deletable": false,
    "editable": false,
    "nbgrader": {
     "checksum": "e45d9d843942a49cc12c42495ece0f2f",
     "grade": true,
     "grade_id": "q2-tests",
     "locked": true,
     "points": 1.5,
     "schema_version": 1,
     "solution": false
    }
   },
   "outputs": [],
   "source": [
    "\"Verifica exemplos simples\"\n",
    "\n",
    "test_regex(regex, \n",
    "           '2019-04-30T16:00-03:00  2019-04-30T16:00+03:00', \n",
    "           '2019-04-30T16:00  2019-4-30T16:00-3:00')"
   ]
  },
  {
   "cell_type": "markdown",
   "metadata": {
    "deletable": false,
    "editable": false,
    "nbgrader": {
     "checksum": "d9d11a4117827014ea30762e576926e4",
     "grade": false,
     "grade_id": "cell-b8deb196320cb77f",
     "locked": true,
     "schema_version": 1,
     "solution": false
    }
   },
   "source": [
    "---\n",
    "## Questão 3\n",
    "\n",
    "\n",
    "### Parte 1 - Hexadecimais com underscore (1,5 pts)\n",
    "Crie uma expressão regular que detecte números hexadecimais no formato `0xf00_ba5`, e que permita underscores entre os dígitos hexadecimais. Considera apenas letras de a até f minúsculas. O underscore não pode estar no inicio ou no fim da string e nem entre os números e o prefixo 0x"
   ]
  },
  {
   "cell_type": "code",
   "execution_count": 92,
   "metadata": {
    "deletable": false,
    "nbgrader": {
     "checksum": "bd3c699297bb642c8b0fb06ea43c8cd3",
     "grade": false,
     "grade_id": "q3",
     "locked": false,
     "schema_version": 1,
     "solution": true
    }
   },
   "outputs": [],
   "source": [
    "regex = r'0x([0-9,a-f]+_?)*[0-9,a-f]$'"
   ]
  },
  {
   "cell_type": "code",
   "execution_count": 93,
   "metadata": {
    "deletable": false,
    "editable": false,
    "nbgrader": {
     "checksum": "e9b62c1c4dca06d63249aa96210d50e2",
     "grade": true,
     "grade_id": "q3-tests",
     "locked": true,
     "points": 1.5,
     "schema_version": 1,
     "solution": false
    }
   },
   "outputs": [],
   "source": [
    "\"Verifica exemplos simples\"\n",
    "\n",
    "test_regex(regex, \n",
    "           '0xff  0x123_456_abcdef', \n",
    "           '0xFF  0x_f00_ba4  0_x_f00  0xff__ff  0x123_')"
   ]
  },
  {
   "cell_type": "markdown",
   "metadata": {
    "deletable": false,
    "editable": false,
    "nbgrader": {
     "checksum": "99e35bd18f701a71f4f97c2e35c8856b",
     "grade": false,
     "grade_id": "cell-9b0e9d19205a1c24",
     "locked": true,
     "schema_version": 1,
     "solution": false
    }
   },
   "source": [
    "### Parte 2 - Localizando valores (1,5 pts)\n",
    "\n",
    "Crie um programa que lê uma string de texto e lista todos os números hexadecimais válidos (aceitando underscores) dentro do mesmo. O programa deve ser implementado na função abaixo."
   ]
  },
  {
   "cell_type": "code",
   "execution_count": 94,
   "metadata": {
    "deletable": false,
    "nbgrader": {
     "checksum": "c38072bf6628ef117cff1903d286b020",
     "grade": false,
     "grade_id": "q3-p2",
     "locked": false,
     "schema_version": 1,
     "solution": true
    }
   },
   "outputs": [],
   "source": [
    "def find_hex(st):\n",
    "    \n",
    "    regex = r'0x([0-9a-f]+_?)*[0-9a-f]'\n",
    "    \n",
    "    found = [r.span() for r in re.finditer(regex, st)]\n",
    "    \n",
    "    return [st[r[0]:r[1]] for r in found]"
   ]
  },
  {
   "cell_type": "code",
   "execution_count": 95,
   "metadata": {
    "deletable": false,
    "editable": false,
    "nbgrader": {
     "checksum": "da6b8d189276513fb3e5f296efcd970d",
     "grade": true,
     "grade_id": "q3-p2-tests",
     "locked": true,
     "points": 1.5,
     "schema_version": 1,
     "solution": false
    }
   },
   "outputs": [
    {
     "data": {
      "text/plain": [
       "True"
      ]
     },
     "execution_count": 95,
     "metadata": {},
     "output_type": "execute_result"
    }
   ],
   "source": [
    "\"Testa um caso simples\"\n",
    "\n",
    "find_hex(\"\"\"\n",
    "Números: 1, 2, 3 0xfoo, 0x123, 0xf00_bar.\n",
    "\"\"\") == ['0xf', '0x123', '0xf00_ba']"
   ]
  },
  {
   "cell_type": "markdown",
   "metadata": {
    "deletable": false,
    "nbgrader": {
     "checksum": "43b43d608882241789643d702b1b8991",
     "grade": true,
     "grade_id": "q4",
     "locked": false,
     "points": 2.5,
     "schema_version": 1,
     "solution": true
    }
   },
   "source": [
    "ESCREVA SUA SOLUÇÃO"
   ]
  },
  {
   "cell_type": "code",
   "execution_count": null,
   "metadata": {},
   "outputs": [],
   "source": []
  },
  {
   "cell_type": "code",
   "execution_count": null,
   "metadata": {},
   "outputs": [],
   "source": []
  }
 ],
 "metadata": {
  "kernelspec": {
   "display_name": "Python 3",
   "language": "python",
   "name": "python3"
  },
  "language_info": {
   "codemirror_mode": {
    "name": "ipython",
    "version": 3
   },
   "file_extension": ".py",
   "mimetype": "text/x-python",
   "name": "python",
   "nbconvert_exporter": "python",
   "pygments_lexer": "ipython3",
   "version": "3.7.3"
  }
 },
 "nbformat": 4,
 "nbformat_minor": 1
}
